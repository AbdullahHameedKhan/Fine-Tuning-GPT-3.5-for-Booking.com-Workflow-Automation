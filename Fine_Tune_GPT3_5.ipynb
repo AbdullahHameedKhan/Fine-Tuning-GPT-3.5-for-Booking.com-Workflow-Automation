{
  "cells": [
    {
      "cell_type": "code",
      "execution_count": null,
      "metadata": {
        "colab": {
          "base_uri": "https://localhost:8080/"
        },
        "id": "V6uDK534hKj0",
        "outputId": "a3b9e9bd-4415-465d-bf93-85abf4023abc"
      },
      "outputs": [
        {
          "name": "stdout",
          "output_type": "stream",
          "text": [
            "Requirement already satisfied: openai in /usr/local/lib/python3.10/dist-packages (0.28.0)\n",
            "Requirement already satisfied: requests>=2.20 in /usr/local/lib/python3.10/dist-packages (from openai) (2.31.0)\n",
            "Requirement already satisfied: tqdm in /usr/local/lib/python3.10/dist-packages (from openai) (4.66.1)\n",
            "Requirement already satisfied: aiohttp in /usr/local/lib/python3.10/dist-packages (from openai) (3.8.5)\n",
            "Requirement already satisfied: charset-normalizer<4,>=2 in /usr/local/lib/python3.10/dist-packages (from requests>=2.20->openai) (3.2.0)\n",
            "Requirement already satisfied: idna<4,>=2.5 in /usr/local/lib/python3.10/dist-packages (from requests>=2.20->openai) (3.4)\n",
            "Requirement already satisfied: urllib3<3,>=1.21.1 in /usr/local/lib/python3.10/dist-packages (from requests>=2.20->openai) (2.0.4)\n",
            "Requirement already satisfied: certifi>=2017.4.17 in /usr/local/lib/python3.10/dist-packages (from requests>=2.20->openai) (2023.7.22)\n",
            "Requirement already satisfied: attrs>=17.3.0 in /usr/local/lib/python3.10/dist-packages (from aiohttp->openai) (23.1.0)\n",
            "Requirement already satisfied: multidict<7.0,>=4.5 in /usr/local/lib/python3.10/dist-packages (from aiohttp->openai) (6.0.4)\n",
            "Requirement already satisfied: async-timeout<5.0,>=4.0.0a3 in /usr/local/lib/python3.10/dist-packages (from aiohttp->openai) (4.0.3)\n",
            "Requirement already satisfied: yarl<2.0,>=1.0 in /usr/local/lib/python3.10/dist-packages (from aiohttp->openai) (1.9.2)\n",
            "Requirement already satisfied: frozenlist>=1.1.1 in /usr/local/lib/python3.10/dist-packages (from aiohttp->openai) (1.4.0)\n",
            "Requirement already satisfied: aiosignal>=1.1.2 in /usr/local/lib/python3.10/dist-packages (from aiohttp->openai) (1.3.1)\n"
          ]
        }
      ],
      "source": [
        "!pip install openai\n"
      ]
    },
    {
      "cell_type": "code",
      "execution_count": null,
      "metadata": {
        "id": "b4TB_jG3g5sx"
      },
      "outputs": [],
      "source": [
        "import openai\n",
        "from apikey import apikey\n",
        "import os\n",
        "openai.api_key = \"Your-Api-Key\""
      ]
    },
    {
      "cell_type": "code",
      "execution_count": null,
      "metadata": {
        "id": "mVuvfK2JhEUH"
      },
      "outputs": [],
      "source": [
        "with open(\"/content/EXAM.jsonl\", \"rb\") as file:\n",
        "  response = openai.File.create(\n",
        "      file = file,\n",
        "      purpose = 'fine-tune'\n",
        "  )"
      ]
    },
    {
      "cell_type": "code",
      "execution_count": null,
      "metadata": {
        "colab": {
          "base_uri": "https://localhost:8080/"
        },
        "id": "fbJeB_5_IXTn",
        "outputId": "c93bbcc3-4791-443e-8850-95f55f3d4bb5"
      },
      "outputs": [
        {
          "name": "stdout",
          "output_type": "stream",
          "text": [
            "File uploaded with ID: file-aiFsAs3ybHOVlq5ZLlhqEsLA\n"
          ]
        }
      ],
      "source": [
        "file_id = response['id']\n",
        "print(f\"File uploaded with ID: {file_id}\")"
      ]
    },
    {
      "cell_type": "code",
      "execution_count": 2,
      "metadata": {
        "colab": {
          "base_uri": "https://localhost:8080/",
          "height": 338
        },
        "id": "fBJh7yc-yuWD",
        "outputId": "390cfbe4-c96c-4bdb-e691-98b97244d27e"
      },
      "outputs": [],
      "source": [
        "openai.FineTuningJob.create(training_file=\"file-aiFsAs3ybHOVlq5ZLlhqEsLA\", model=\"gpt-3.5-turbo\")"
      ]
    },
    {
      "cell_type": "code",
      "execution_count": null,
      "metadata": {
        "colab": {
          "base_uri": "https://localhost:8080/"
        },
        "id": "LOkKkIvqGxp6",
        "outputId": "75786d33-65c2-419e-cb0d-76ff5b7e11a2"
      },
      "outputs": [
        {
          "data": {
            "text/plain": [
              "<OpenAIObject list at 0x79d5a879bf10> JSON: {\n",
              "  \"object\": \"list\",\n",
              "  \"data\": [\n",
              "    {\n",
              "      \"object\": \"fine_tuning.job\",\n",
              "      \"id\": \"ftjob-cY3KDw3wwuRwHg9MhjEC3vWw\",\n",
              "      \"model\": \"gpt-3.5-turbo-0613\",\n",
              "      \"created_at\": 1693896986,\n",
              "      \"finished_at\": null,\n",
              "      \"fine_tuned_model\": null,\n",
              "      \"organization_id\": \"org-sShuWqiOyKxf11K9ncZAymgb\",\n",
              "      \"result_files\": [],\n",
              "      \"status\": \"running\",\n",
              "      \"validation_file\": null,\n",
              "      \"training_file\": \"file-VByCVdxtk9NtYTpUom5b7HbU\",\n",
              "      \"hyperparameters\": {\n",
              "        \"n_epochs\": 6\n",
              "      },\n",
              "      \"trained_tokens\": null\n",
              "    },\n",
              "    {\n",
              "      \"object\": \"fine_tuning.job\",\n",
              "      \"id\": \"ftjob-0xEpccbsRczLEahOtYXvbL8D\",\n",
              "      \"model\": \"gpt-3.5-turbo-0613\",\n",
              "      \"created_at\": 1693896300,\n",
              "      \"finished_at\": 1693896916,\n",
              "      \"fine_tuned_model\": \"ft:gpt-3.5-turbo-0613:personal::7vKFwfxM\",\n",
              "      \"organization_id\": \"org-sShuWqiOyKxf11K9ncZAymgb\",\n",
              "      \"result_files\": [\n",
              "        \"file-9GDnKRhLenO83OzdTk4cMERO\"\n",
              "      ],\n",
              "      \"status\": \"succeeded\",\n",
              "      \"validation_file\": null,\n",
              "      \"training_file\": \"file-kgCJVL74lqKMFD3x8HBs3sf4\",\n",
              "      \"hyperparameters\": {\n",
              "        \"n_epochs\": 6\n",
              "      },\n",
              "      \"trained_tokens\": 34200\n",
              "    },\n",
              "    {\n",
              "      \"object\": \"fine_tuning.job\",\n",
              "      \"id\": \"ftjob-tu8Z6NiyKyY3CVhEOwGu88v8\",\n",
              "      \"model\": \"gpt-3.5-turbo-0613\",\n",
              "      \"created_at\": 1693858384,\n",
              "      \"finished_at\": 1693859083,\n",
              "      \"fine_tuned_model\": \"ft:gpt-3.5-turbo-0613:personal::7vAPkKo5\",\n",
              "      \"organization_id\": \"org-sShuWqiOyKxf11K9ncZAymgb\",\n",
              "      \"result_files\": [\n",
              "        \"file-ouVjz8lsYulKUBWgyemEsbGH\"\n",
              "      ],\n",
              "      \"status\": \"succeeded\",\n",
              "      \"validation_file\": null,\n",
              "      \"training_file\": \"file-RJXmXadDiYvxerI6XVb0NZ1V\",\n",
              "      \"hyperparameters\": {\n",
              "        \"n_epochs\": 6\n",
              "      },\n",
              "      \"trained_tokens\": 34200\n",
              "    }\n",
              "  ],\n",
              "  \"has_more\": false\n",
              "}"
            ]
          },
          "execution_count": 6,
          "metadata": {},
          "output_type": "execute_result"
        }
      ],
      "source": [
        "openai.FineTuningJob.list(limit=10)"
      ]
    },
    {
      "cell_type": "code",
      "execution_count": 1,
      "metadata": {
        "colab": {
          "base_uri": "https://localhost:8080/",
          "height": 390
        },
        "id": "86tOlaQh1F0u",
        "outputId": "ab656583-ed83-4a05-cba0-17a0de2cfa79"
      },
      "outputs": [],
      "source": [
        "completion = openai.ChatCompletion.create(\n",
        "  model=\"ft:gpt-3.5-turbo:my-org:custom_suffix:id\",\n",
        "  messages=[\n",
        "    {\"role\": \"system\", \"content\": \"You are a helpful assistant.\"},\n",
        "    {\"role\": \"user\", \"content\": \"Hello!\"}\n",
        "  ]\n",
        ")\n",
        "\n",
        "print(completion.choices[0].message)"
      ]
    },
    {
      "cell_type": "code",
      "execution_count": null,
      "metadata": {
        "id": "NYgVQbbT1bf5"
      },
      "outputs": [],
      "source": []
    }
  ],
  "metadata": {
    "colab": {
      "gpuType": "T4",
      "provenance": []
    },
    "kernelspec": {
      "display_name": "Python 3",
      "name": "python3"
    },
    "language_info": {
      "codemirror_mode": {
        "name": "ipython",
        "version": 3
      },
      "file_extension": ".py",
      "mimetype": "text/x-python",
      "name": "python",
      "nbconvert_exporter": "python",
      "pygments_lexer": "ipython3",
      "version": "3.9.19"
    }
  },
  "nbformat": 4,
  "nbformat_minor": 0
}
